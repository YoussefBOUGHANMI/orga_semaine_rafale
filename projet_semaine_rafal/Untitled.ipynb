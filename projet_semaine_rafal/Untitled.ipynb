{
 "cells": [
  {
   "cell_type": "code",
   "execution_count": 39,
   "id": "bfd9bdf7-6835-4262-9b6d-bc56a4266b44",
   "metadata": {},
   "outputs": [],
   "source": [
    "import os \n",
    "import yaml"
   ]
  },
  {
   "cell_type": "code",
   "execution_count": 40,
   "id": "1678d5c9-78ce-4484-9382-ac4babda6730",
   "metadata": {},
   "outputs": [],
   "source": [
    "user = \"admin\""
   ]
  },
  {
   "cell_type": "code",
   "execution_count": 65,
   "id": "4f68803b-db92-4c27-a8fe-69e3637cd349",
   "metadata": {},
   "outputs": [],
   "source": [
    "# Chemin du fichier YAML\n",
    "yaml_file = \"/Users/youssefboughanmi/projet_semaine_rafal/utils/activites.yaml\"\n",
    "\n",
    "# Charger les données existantes si le fichier existe\n",
    "if os.path.exists(yaml_file):\n",
    "    with open(yaml_file, 'r') as file:\n",
    "        activites = yaml.safe_load(file) or []\n",
    "else:\n",
    "    activites = []"
   ]
  },
  {
   "cell_type": "code",
   "execution_count": 66,
   "id": "3342182a-1282-4e2f-9068-32e5d8ea6165",
   "metadata": {},
   "outputs": [
    {
     "data": {
      "text/plain": [
       "[{'date': '2024-08-10',\n",
       "  'description': 'sds',\n",
       "  'duree': 'Matin',\n",
       "  'image': '/Users/youssefboughanmi/projet_semaine_rafal/utils/images_activites/image_default.png',\n",
       "  'initiateur': 'youssef',\n",
       "  'inscrits': 'youssef',\n",
       "  'nb_inscrits': 1,\n",
       "  'nom': 'bateau'},\n",
       " {'date': '2024-08-10',\n",
       "  'description': 'test2',\n",
       "  'duree': 'Matin',\n",
       "  'image': '/Users/youssefboughanmi/projet_semaine_rafal/utils/images_activites/image_default.png',\n",
       "  'initiateur': 'admin',\n",
       "  'inscrits': 'admin',\n",
       "  'nb_inscrits': 1,\n",
       "  'nom': 'test2'},\n",
       " {'date': '2024-08-10',\n",
       "  'description': 'test',\n",
       "  'duree': 'Matin',\n",
       "  'image': '/Users/youssefboughanmi/projet_semaine_rafal/utils/images_activites/image_default.png',\n",
       "  'initiateur': 'admin',\n",
       "  'inscrits': 'admin',\n",
       "  'nb_inscrits': 1,\n",
       "  'nom': 'test'},\n",
       " {'date': '2024-08-15',\n",
       "  'description': 'edeéz',\n",
       "  'duree': 'Matin',\n",
       "  'image': '/Users/youssefboughanmi/projet_semaine_rafal/utils/images_activites/image_default.png',\n",
       "  'initiateur': 'youssef',\n",
       "  'inscrits': 'youssef',\n",
       "  'nb_inscrits': 1,\n",
       "  'nom': 'test2'}]"
      ]
     },
     "execution_count": 66,
     "metadata": {},
     "output_type": "execute_result"
    }
   ],
   "source": [
    "activites"
   ]
  },
  {
   "cell_type": "code",
   "execution_count": 42,
   "id": "88fa4f6d-1390-4e98-9a59-3e1d9ee229a8",
   "metadata": {},
   "outputs": [],
   "source": [
    "activites_user = [act for act in activites if user in act[\"inscrits\"].split(\",\")]"
   ]
  },
  {
   "cell_type": "code",
   "execution_count": 43,
   "id": "dd8ffb7c-7ec2-4eaa-a16e-cbd02644fa3c",
   "metadata": {},
   "outputs": [
    {
     "name": "stdout",
     "output_type": "stream",
     "text": [
      "[{'date': '2024-08-10', 'nom': 'bateau'}, {'date': '2024-08-15', 'nom': 'test2'}]\n"
     ]
    }
   ],
   "source": [
    "# Étape 1: Organiser les activités par date\n",
    "activites_par_date = {}\n",
    "for activite in activites:\n",
    "    date = activite['date']\n",
    "    if date not in activites_par_date:\n",
    "        activites_par_date[date] = activite\n",
    "    else:\n",
    "        # Comparer le nombre d'inscrits\n",
    "        if activite['nb_inscrits'] > activites_par_date[date]['nb_inscrits']:\n",
    "            activites_par_date[date] = activite\n",
    "\n",
    "# Étape 2: Convertir le dictionnaire en liste avec uniquement la date et le nom de l'activité\n",
    "resultat_final = [{'date': activite['date'], 'nom': activite['nom']} for activite in activites_par_date.values()]\n",
    "\n",
    "print(resultat_final)"
   ]
  },
  {
   "cell_type": "code",
   "execution_count": 63,
   "id": "74e05c03-5f20-4019-b413-efcfd5740687",
   "metadata": {},
   "outputs": [],
   "source": [
    "def get_start_date(date_act , duree):\n",
    "    \n",
    "    if(duree == 'Matin' or duree == 'Toute la journee'):\n",
    "        return(date_act + \"T09:00:00\")\n",
    "    else :\n",
    "        return(date_act + \"T14:00:00\")"
   ]
  },
  {
   "cell_type": "code",
   "execution_count": 61,
   "id": "2945409d-15fc-427f-9c87-02169aa6f235",
   "metadata": {},
   "outputs": [],
   "source": [
    "def get_end_date(date_act , duree):\n",
    "    \n",
    "    if(duree == 'Matin'):\n",
    "        return(date_act + \"T12:00:00\")\n",
    "    else :\n",
    "        return(date_act + \"T18:00:00\")"
   ]
  },
  {
   "cell_type": "code",
   "execution_count": null,
   "id": "e3c9ee14-fc7a-433e-bb25-ad90739fb5f4",
   "metadata": {},
   "outputs": [],
   "source": []
  },
  {
   "cell_type": "code",
   "execution_count": 64,
   "id": "8bd0dfca-4eb7-49d2-b081-9ee9fb695446",
   "metadata": {},
   "outputs": [],
   "source": [
    "def get_end_date(date_act , duree):\n",
    "    \n",
    "    if(duree == 'Matin'):\n",
    "        return(date_act + \"T12:00:00\")\n",
    "    else :\n",
    "        return(date_act + \"T18:00:00\")\n",
    "    \n",
    "    \n",
    "\n",
    "def get_start_date(date_act , duree):\n",
    "    \n",
    "    if(duree == 'Matin' or duree == 'Toute la journee'):\n",
    "        return(date_act + \"T09:00:00\")\n",
    "    else :\n",
    "        return(date_act + \"T14:00:00\")\n",
    "    \n",
    "def user_plannig(user):\n",
    "    \n",
    "    \n",
    "    # Chemin du fichier YAML\n",
    "    yaml_file = \"/Users/youssefboughanmi/projet_semaine_rafal/utils/activites.yaml\"\n",
    "\n",
    "    # Charger les données existantes si le fichier existe\n",
    "    if os.path.exists(yaml_file):\n",
    "        with open(yaml_file, 'r') as file:\n",
    "            activites = yaml.safe_load(file) or []\n",
    "    else:\n",
    "        activites = []\n",
    "        \n",
    "        \n",
    "    activites = [act for act in activites if user in act[\"inscrits\"].split(\",\")]\n",
    "    # Étape 1: Organiser les activités par date\n",
    "    activites_par_date = {}\n",
    "    for activite in activites:\n",
    "        date = activite['date']\n",
    "        if date not in activites_par_date:\n",
    "            activites_par_date[date] = activite\n",
    "        else:\n",
    "            # Comparer le nombre d'inscrits\n",
    "            if activite['nb_inscrits'] > activites_par_date[date]['nb_inscrits']:\n",
    "                activites_par_date[date] = activite\n",
    "\n",
    "    # Étape 2: Convertir le dictionnaire en liste avec uniquement la date et le nom de l'activité\n",
    "    resultat_final = [{'title': activite['nom'], 'start': get_start_date(activite['date'], activite['duree']) , \n",
    "                        'end': get_end_date(activite['date'], activite['duree'])} for activite in activites_par_date.values()]\n",
    "\n",
    "    return(resultat_final)\n"
   ]
  },
  {
   "cell_type": "code",
   "execution_count": null,
   "id": "284f68aa-42ca-43b5-aa12-dd27648be512",
   "metadata": {},
   "outputs": [],
   "source": [
    "    {\n",
    "        \"title\": \"Event 1\",\n",
    "        \"start\": \"2024-08-11T08:30:00\",\n",
    "        \"end\": \"2024-08-11T10:30:00\",\n",
    "        \"resourceId\": \"a\",\n",
    "    },"
   ]
  },
  {
   "cell_type": "code",
   "execution_count": 62,
   "id": "3ebd4fc7-8a1c-47d6-9798-a250a0ed7bad",
   "metadata": {},
   "outputs": [
    {
     "data": {
      "text/plain": [
       "[{'title': 'bateau',\n",
       "  'start': '2024-08-10T09:00:00',\n",
       "  'end': '2024-08-10T12:00:00'},\n",
       " {'title': 'test2',\n",
       "  'start': '2024-08-15T09:00:00',\n",
       "  'end': '2024-08-15T12:00:00'}]"
      ]
     },
     "execution_count": 62,
     "metadata": {},
     "output_type": "execute_result"
    }
   ],
   "source": [
    "user_plannig(\"youssef\")"
   ]
  }
 ],
 "metadata": {
  "kernelspec": {
   "display_name": "Python 3 (ipykernel)",
   "language": "python",
   "name": "python3"
  },
  "language_info": {
   "codemirror_mode": {
    "name": "ipython",
    "version": 3
   },
   "file_extension": ".py",
   "mimetype": "text/x-python",
   "name": "python",
   "nbconvert_exporter": "python",
   "pygments_lexer": "ipython3",
   "version": "3.9.13"
  }
 },
 "nbformat": 4,
 "nbformat_minor": 5
}
